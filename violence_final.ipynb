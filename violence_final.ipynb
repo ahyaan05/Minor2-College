{
 "cells": [
  {
   "cell_type": "code",
   "execution_count": 2,
   "metadata": {},
   "outputs": [
    {
     "name": "stderr",
     "output_type": "stream",
     "text": [
      "Using TensorFlow backend.\n",
      "C:\\ProgramData\\Anaconda3\\lib\\site-packages\\tensorflow\\python\\framework\\dtypes.py:526: FutureWarning: Passing (type, 1) or '1type' as a synonym of type is deprecated; in a future version of numpy, it will be understood as (type, (1,)) / '(1,)type'.\n",
      "  _np_qint8 = np.dtype([(\"qint8\", np.int8, 1)])\n",
      "C:\\ProgramData\\Anaconda3\\lib\\site-packages\\tensorflow\\python\\framework\\dtypes.py:527: FutureWarning: Passing (type, 1) or '1type' as a synonym of type is deprecated; in a future version of numpy, it will be understood as (type, (1,)) / '(1,)type'.\n",
      "  _np_quint8 = np.dtype([(\"quint8\", np.uint8, 1)])\n",
      "C:\\ProgramData\\Anaconda3\\lib\\site-packages\\tensorflow\\python\\framework\\dtypes.py:528: FutureWarning: Passing (type, 1) or '1type' as a synonym of type is deprecated; in a future version of numpy, it will be understood as (type, (1,)) / '(1,)type'.\n",
      "  _np_qint16 = np.dtype([(\"qint16\", np.int16, 1)])\n",
      "C:\\ProgramData\\Anaconda3\\lib\\site-packages\\tensorflow\\python\\framework\\dtypes.py:529: FutureWarning: Passing (type, 1) or '1type' as a synonym of type is deprecated; in a future version of numpy, it will be understood as (type, (1,)) / '(1,)type'.\n",
      "  _np_quint16 = np.dtype([(\"quint16\", np.uint16, 1)])\n",
      "C:\\ProgramData\\Anaconda3\\lib\\site-packages\\tensorflow\\python\\framework\\dtypes.py:530: FutureWarning: Passing (type, 1) or '1type' as a synonym of type is deprecated; in a future version of numpy, it will be understood as (type, (1,)) / '(1,)type'.\n",
      "  _np_qint32 = np.dtype([(\"qint32\", np.int32, 1)])\n",
      "C:\\ProgramData\\Anaconda3\\lib\\site-packages\\tensorflow\\python\\framework\\dtypes.py:535: FutureWarning: Passing (type, 1) or '1type' as a synonym of type is deprecated; in a future version of numpy, it will be understood as (type, (1,)) / '(1,)type'.\n",
      "  np_resource = np.dtype([(\"resource\", np.ubyte, 1)])\n"
     ]
    }
   ],
   "source": [
    "import cv2\n",
    "import os\n",
    "import numpy as np\n",
    "import keras\n",
    "import matplotlib.pyplot as plt\n",
    "import download\n",
    "from random import shuffle\n",
    "from keras.applications import VGG16\n",
    "from keras import backend as K\n",
    "from keras.models import Model, Sequential\n",
    "from keras.layers import Input\n",
    "from keras.layers import LSTM\n",
    "from keras.layers import Dense, Activation\n",
    "import sys\n",
    "import h5py"
   ]
  },
  {
   "cell_type": "code",
   "execution_count": 3,
   "metadata": {},
   "outputs": [],
   "source": [
    "def print_progress(count, max_count):\n",
    "    pct_complete = count / max_count\n",
    "    msg = \"\\r- Progress: {0:.1%}\".format(pct_complete)\n",
    "    sys.stdout.write(msg)\n",
    "    sys.stdout.flush()"
   ]
  },
  {
   "cell_type": "code",
   "execution_count": 4,
   "metadata": {},
   "outputs": [],
   "source": [
    "def download_data(in_dir, url):\n",
    "    \n",
    "    if not os.path.exists(in_dir):\n",
    "        os.makedirs(in_dir)\n",
    "    \n",
    "    download.maybe_download_and_extract(url,in_dir)"
   ]
  },
  {
   "cell_type": "code",
   "execution_count": 5,
   "metadata": {},
   "outputs": [],
   "source": [
    "in_dir = \"data\""
   ]
  },
  {
   "cell_type": "code",
   "execution_count": 6,
   "metadata": {},
   "outputs": [],
   "source": [
    "url_hockey = \"http://visilab.etsii.uclm.es/personas/oscar/FightDetection/HockeyFights.zip\""
   ]
  },
  {
   "cell_type": "code",
   "execution_count": 7,
   "metadata": {},
   "outputs": [
    {
     "name": "stdout",
     "output_type": "stream",
     "text": [
      "Data has apparently already been downloaded and unpacked.\n"
     ]
    }
   ],
   "source": [
    "download_data(in_dir,url_hockey)"
   ]
  },
  {
   "cell_type": "code",
   "execution_count": 8,
   "metadata": {},
   "outputs": [],
   "source": [
    "img_size = 224\n",
    "\n",
    "img_size_touple = (img_size, img_size)\n",
    "\n",
    "num_channels = 3\n",
    "\n",
    "img_size_flat = img_size * img_size * num_channels\n",
    "\n",
    "num_classes = 2\n",
    "\n",
    "_num_files_train = 1\n",
    "\n",
    "_images_per_file = 20\n",
    "\n",
    "_num_images_train = _num_files_train * _images_per_file\n",
    "\n",
    "video_exts = \".avi\""
   ]
  },
  {
   "cell_type": "code",
   "execution_count": 9,
   "metadata": {},
   "outputs": [],
   "source": [
    "def get_frames(current_dir, file_name):\n",
    "    \n",
    "    in_file = os.path.join(current_dir, file_name)\n",
    "    \n",
    "    images = []\n",
    "    \n",
    "    vidcap = cv2.VideoCapture(in_file)\n",
    "    \n",
    "    success,image = vidcap.read()\n",
    "        \n",
    "    count = 0\n",
    "\n",
    "    while count<_images_per_file:\n",
    "                \n",
    "        RGB_img = cv2.cvtColor(image, cv2.COLOR_BGR2RGB)\n",
    "    \n",
    "        res = cv2.resize(RGB_img, dsize=(img_size, img_size),\n",
    "                                 interpolation=cv2.INTER_CUBIC)\n",
    "    \n",
    "        images.append(res)\n",
    "    \n",
    "        success,image = vidcap.read()\n",
    "    \n",
    "        count += 1\n",
    "        \n",
    "    result = np.array(images)\n",
    "    \n",
    "    result = (result / 255.).astype(np.float16)\n",
    "        \n",
    "    return result"
   ]
  },
  {
   "cell_type": "code",
   "execution_count": 10,
   "metadata": {},
   "outputs": [],
   "source": [
    "def label_video_names(in_dir):\n",
    "    \n",
    "    names = []\n",
    "    \n",
    "    labels = []\n",
    "    \n",
    "    for current_dir, dir_names,file_names in os.walk(in_dir):\n",
    "        \n",
    "        for file_name in file_names:\n",
    "            \n",
    "            if file_name[0:2] == 'fi':\n",
    "                labels.append([1,0])\n",
    "                names.append(file_name)\n",
    "            elif file_name[0:2] == 'no':\n",
    "                labels.append([0,1])\n",
    "                names.append(file_name)\n",
    "                             \n",
    "    c = list(zip(names,labels))\n",
    "    shuffle(c)\n",
    "    \n",
    "    names, labels = zip(*c)\n",
    "            \n",
    "    return names, labels"
   ]
  },
  {
   "cell_type": "code",
   "execution_count": 45,
   "metadata": {},
   "outputs": [],
   "source": [
    "names, labels = label_video_names(in_dir)"
   ]
  },
  {
   "cell_type": "code",
   "execution_count": 46,
   "metadata": {},
   "outputs": [],
   "source": [
    "frames = get_frames(in_dir, names[12])"
   ]
  },
  {
   "cell_type": "code",
   "execution_count": 47,
   "metadata": {},
   "outputs": [],
   "source": [
    "visible_frame = (frames*255).astype('uint8')"
   ]
  },
  {
   "cell_type": "code",
   "execution_count": 48,
   "metadata": {
    "scrolled": false
   },
   "outputs": [
    {
     "data": {
      "text/plain": [
       "<matplotlib.image.AxesImage at 0x1ff95f82088>"
      ]
     },
     "execution_count": 48,
     "metadata": {},
     "output_type": "execute_result"
    },
    {
     "data": {
      "image/png": "[encoded data removed]",
      "text/plain": [
       "<Figure size 432x288 with 1 Axes>"
      ]
     },
     "metadata": {
      "needs_background": "light"
     },
     "output_type": "display_data"
    }
   ],
   "source": [
    "plt.imshow(visible_frame[3])"
   ]
  },
  {
   "cell_type": "code",
   "execution_count": 33,
   "metadata": {},
   "outputs": [],
   "source": [
    "image_model = VGG16(include_top=True, weights='imagenet')"
   ]
  },
  {
   "cell_type": "code",
   "execution_count": 21,
   "metadata": {},
   "outputs": [
    {
     "name": "stdout",
     "output_type": "stream",
     "text": [
      "Model: \"vgg16\"\n",
      "_________________________________________________________________\n",
      "Layer (type)                 Output Shape              Param #   \n",
      "=================================================================\n",
      "input_2 (InputLayer)         (None, 224, 224, 3)       0         \n",
      "_________________________________________________________________\n",
      "block1_conv1 (Conv2D)        (None, 224, 224, 64)      1792      \n",
      "_________________________________________________________________\n",
      "block1_conv2 (Conv2D)        (None, 224, 224, 64)      36928     \n",
      "_________________________________________________________________\n",
      "block1_pool (MaxPooling2D)   (None, 112, 112, 64)      0         \n",
      "_________________________________________________________________\n",
      "block2_conv1 (Conv2D)        (None, 112, 112, 128)     73856     \n",
      "_________________________________________________________________\n",
      "block2_conv2 (Conv2D)        (None, 112, 112, 128)     147584    \n",
      "_________________________________________________________________\n",
      "block2_pool (MaxPooling2D)   (None, 56, 56, 128)       0         \n",
      "_________________________________________________________________\n",
      "block3_conv1 (Conv2D)        (None, 56, 56, 256)       295168    \n",
      "_________________________________________________________________\n",
      "block3_conv2 (Conv2D)        (None, 56, 56, 256)       590080    \n",
      "_________________________________________________________________\n",
      "block3_conv3 (Conv2D)        (None, 56, 56, 256)       590080    \n",
      "_________________________________________________________________\n",
      "block3_pool (MaxPooling2D)   (None, 28, 28, 256)       0         \n",
      "_________________________________________________________________\n",
      "block4_conv1 (Conv2D)        (None, 28, 28, 512)       1180160   \n",
      "_________________________________________________________________\n",
      "block4_conv2 (Conv2D)        (None, 28, 28, 512)       2359808   \n",
      "_________________________________________________________________\n",
      "block4_conv3 (Conv2D)        (None, 28, 28, 512)       2359808   \n",
      "_________________________________________________________________\n",
      "block4_pool (MaxPooling2D)   (None, 14, 14, 512)       0         \n",
      "_________________________________________________________________\n",
      "block5_conv1 (Conv2D)        (None, 14, 14, 512)       2359808   \n",
      "_________________________________________________________________\n",
      "block5_conv2 (Conv2D)        (None, 14, 14, 512)       2359808   \n",
      "_________________________________________________________________\n",
      "block5_conv3 (Conv2D)        (None, 14, 14, 512)       2359808   \n",
      "_________________________________________________________________\n",
      "block5_pool (MaxPooling2D)   (None, 7, 7, 512)         0         \n",
      "_________________________________________________________________\n",
      "flatten (Flatten)            (None, 25088)             0         \n",
      "_________________________________________________________________\n",
      "fc1 (Dense)                  (None, 4096)              102764544 \n",
      "_________________________________________________________________\n",
      "fc2 (Dense)                  (None, 4096)              16781312  \n",
      "_________________________________________________________________\n",
      "predictions (Dense)          (None, 1000)              4097000   \n",
      "=================================================================\n",
      "Total params: 138,357,544\n",
      "Trainable params: 138,357,544\n",
      "Non-trainable params: 0\n",
      "_________________________________________________________________\n"
     ]
    }
   ],
   "source": [
    "image_model.summary()"
   ]
  },
  {
   "cell_type": "code",
   "execution_count": 22,
   "metadata": {},
   "outputs": [
    {
     "data": {
      "text/plain": [
       "(224, 224)"
      ]
     },
     "execution_count": 22,
     "metadata": {},
     "output_type": "execute_result"
    }
   ],
   "source": [
    "input_shape = image_model.layers[0].output_shape[1:3]\n",
    "input_shape"
   ]
  },
  {
   "cell_type": "code",
   "execution_count": 23,
   "metadata": {},
   "outputs": [
    {
     "name": "stdout",
     "output_type": "stream",
     "text": [
      "The input of the VGG16 net have dimensions: (224, 224)\n",
      "The output of the selecter layer of VGG16 net have dimensions:  4096\n"
     ]
    }
   ],
   "source": [
    "transfer_layer = image_model.get_layer('fc2')\n",
    "\n",
    "image_model_transfer = Model(inputs=image_model.input,\n",
    "                             outputs=transfer_layer.output)\n",
    "\n",
    "transfer_values_size = K.int_shape(transfer_layer.output)[1]\n",
    "\n",
    "\n",
    "print(\"The input of the VGG16 net have dimensions:\",K.int_shape(image_model.input)[1:3])\n",
    "\n",
    "print(\"The output of the selecter layer of VGG16 net have dimensions: \", transfer_values_size)"
   ]
  },
  {
   "cell_type": "code",
   "execution_count": 24,
   "metadata": {},
   "outputs": [],
   "source": [
    "def get_transfer_values(current_dir, file_name):\n",
    "    \n",
    "    shape = (_images_per_file,) + img_size_touple + (3,)\n",
    "    \n",
    "    image_batch = np.zeros(shape=shape, dtype=np.float16)\n",
    "    \n",
    "    image_batch = get_frames(current_dir, file_name)\n",
    "    \n",
    "    shape = (_images_per_file, transfer_values_size)\n",
    "    transfer_values = np.zeros(shape=shape, dtype=np.float16)\n",
    "\n",
    "    transfer_values = \\\n",
    "            image_model_transfer.predict(image_batch)\n",
    "            \n",
    "    return transfer_values"
   ]
  },
  {
   "cell_type": "code",
   "execution_count": 25,
   "metadata": {},
   "outputs": [],
   "source": [
    "def proces_transfer(vid_names, in_dir, labels):\n",
    "    \n",
    "    count = 0\n",
    "    \n",
    "    tam = len(vid_names)\n",
    "\n",
    "    shape = (_images_per_file,) + img_size_touple + (3,)\n",
    "    \n",
    "    while count<tam:\n",
    "        \n",
    "        video_name = vid_names[count]\n",
    "        \n",
    "        image_batch = np.zeros(shape=shape, dtype=np.float16)\n",
    "    \n",
    "        image_batch = get_frames(in_dir, video_name)\n",
    "        \n",
    "        \n",
    "        shape = (_images_per_file, transfer_values_size)\n",
    "        transfer_values = np.zeros(shape=shape, dtype=np.float16)\n",
    "        \n",
    "        transfer_values = \\\n",
    "            image_model_transfer.predict(image_batch)\n",
    "         \n",
    "        labels1 = labels[count]\n",
    "        \n",
    "        aux = np.ones([20,2])\n",
    "        \n",
    "        labelss = labels1*aux\n",
    "        \n",
    "        yield transfer_values, labelss\n",
    "        \n",
    "        count+=1"
   ]
  },
  {
   "cell_type": "code",
   "execution_count": 26,
   "metadata": {},
   "outputs": [],
   "source": [
    "def make_files(n_files):\n",
    "    \n",
    "    gen = proces_transfer(names_training, in_dir, labels_training)\n",
    "\n",
    "    numer = 1\n",
    "\n",
    "    chunk = next(gen)\n",
    "\n",
    "    row_count = chunk[0].shape[0]\n",
    "    row_count2 = chunk[1].shape[0]\n",
    "    \n",
    "    with h5py.File('proof.h5', 'w') as f:\n",
    "    \n",
    "        \n",
    "        maxshape = (None,) + chunk[0].shape[1:]\n",
    "        maxshape2 = (None,) + chunk[1].shape[1:]\n",
    "    \n",
    "    \n",
    "        dset = f.create_dataset('data', shape=chunk[0].shape, maxshape=maxshape,\n",
    "                                chunks=chunk[0].shape, dtype=chunk[0].dtype)\n",
    "    \n",
    "        dset2 = f.create_dataset('labels', shape=chunk[1].shape, maxshape=maxshape2,\n",
    "                                 chunks=chunk[1].shape, dtype=chunk[1].dtype)\n",
    "    \n",
    "        dset[:] = chunk[0]\n",
    "        dset2[:] = chunk[1]\n",
    "\n",
    "        for chunk in gen:\n",
    "            \n",
    "            if numer == n_files:\n",
    "            \n",
    "                break\n",
    "\n",
    "            \n",
    "            dset.resize(row_count + chunk[0].shape[0], axis=0)\n",
    "            dset2.resize(row_count2 + chunk[1].shape[0], axis=0)\n",
    "\n",
    "            dset[row_count:] = chunk[0]\n",
    "            dset2[row_count:] = chunk[1]\n",
    "\n",
    "            row_count += chunk[0].shape[0]\n",
    "            row_count2 += chunk[1].shape[0]\n",
    "            \n",
    "            print_progress(numer, n_files)\n",
    "        \n",
    "            numer += 1"
   ]
  },
  {
   "cell_type": "code",
   "execution_count": 27,
   "metadata": {},
   "outputs": [],
   "source": [
    "def make_files_test(n_files):\n",
    "    \n",
    "    gen = proces_transfer(names_test, in_dir, labels_test)\n",
    "\n",
    "    numer = 1\n",
    "\n",
    "    chunk = next(gen)\n",
    "\n",
    "    row_count = chunk[0].shape[0]\n",
    "    row_count2 = chunk[1].shape[0]\n",
    "    \n",
    "    with h5py.File('proofvalidation.h5', 'w') as f:\n",
    "    \n",
    "        maxshape = (None,) + chunk[0].shape[1:]\n",
    "        maxshape2 = (None,) + chunk[1].shape[1:]\n",
    "    \n",
    "        dset = f.create_dataset('data', shape=chunk[0].shape, maxshape=maxshape,\n",
    "                                chunks=chunk[0].shape, dtype=chunk[0].dtype)\n",
    "    \n",
    "        dset2 = f.create_dataset('labels', shape=chunk[1].shape, maxshape=maxshape2,\n",
    "                                 chunks=chunk[1].shape, dtype=chunk[1].dtype)\n",
    "    \n",
    "        dset[:] = chunk[0]\n",
    "        dset2[:] = chunk[1]\n",
    "\n",
    "        for chunk in gen:\n",
    "            \n",
    "            if numer == n_files:\n",
    "            \n",
    "                break\n",
    "\n",
    "            dset.resize(row_count + chunk[0].shape[0], axis=0)\n",
    "            dset2.resize(row_count2 + chunk[1].shape[0], axis=0)\n",
    "\n",
    "            dset[row_count:] = chunk[0]\n",
    "            dset2[row_count:] = chunk[1]\n",
    "\n",
    "            row_count += chunk[0].shape[0]\n",
    "            row_count2 += chunk[1].shape[0]\n",
    "            \n",
    "            print_progress(numer, n_files)\n",
    "        \n",
    "            numer += 1"
   ]
  },
  {
   "cell_type": "code",
   "execution_count": 28,
   "metadata": {},
   "outputs": [],
   "source": [
    "training_set = int(len(names)*0.8)\n",
    "test_set = int(len(names)*0.2)\n",
    "\n",
    "names_training = names[0:training_set]\n",
    "names_test = names[training_set:]\n",
    "\n",
    "labels_training = labels[0:training_set]\n",
    "labels_test = labels[training_set:]"
   ]
  },
  {
   "cell_type": "code",
   "execution_count": 31,
   "metadata": {},
   "outputs": [
    {
     "name": "stdout",
     "output_type": "stream",
     "text": [
      "- Progress: 99.9%"
     ]
    }
   ],
   "source": [
    "make_files(training_set)"
   ]
  },
  {
   "cell_type": "code",
   "execution_count": null,
   "metadata": {},
   "outputs": [],
   "source": [
    "make_files_test(test_set)"
   ]
  },
  {
   "cell_type": "code",
   "execution_count": 33,
   "metadata": {},
   "outputs": [],
   "source": [
    "def process_alldata_training():\n",
    "    \n",
    "    joint_transfer=[]\n",
    "    frames_num=20\n",
    "    count = 0\n",
    "    \n",
    "    with h5py.File('proof.h5', 'r') as f:\n",
    "            \n",
    "        X_batch = f['data'][:]\n",
    "        y_batch = f['labels'][:]\n",
    "\n",
    "    for i in range(int(len(X_batch)/frames_num)):\n",
    "        inc = count+frames_num\n",
    "        joint_transfer.append([X_batch[count:inc],y_batch[count]])\n",
    "        count =inc\n",
    "        \n",
    "    data =[]\n",
    "    target=[]\n",
    "    \n",
    "    for i in joint_transfer:\n",
    "        data.append(i[0])\n",
    "        target.append(np.array(i[1]))\n",
    "        \n",
    "    return data, target"
   ]
  },
  {
   "cell_type": "code",
   "execution_count": 34,
   "metadata": {},
   "outputs": [],
   "source": [
    "def process_alldata_test():\n",
    "    \n",
    "    joint_transfer=[]\n",
    "    frames_num=20\n",
    "    count = 0\n",
    "    \n",
    "    with h5py.File('proofvalidation.h5', 'r') as f:\n",
    "            \n",
    "        X_batch = f['data'][:]\n",
    "        y_batch = f['labels'][:]\n",
    "\n",
    "    for i in range(int(len(X_batch)/frames_num)):\n",
    "        inc = count+frames_num\n",
    "        joint_transfer.append([X_batch[count:inc],y_batch[count]])\n",
    "        count =inc\n",
    "        \n",
    "    data =[]\n",
    "    target=[]\n",
    "    \n",
    "    for i in joint_transfer:\n",
    "        data.append(i[0])\n",
    "        target.append(np.array(i[1]))\n",
    "        \n",
    "    return data, target"
   ]
  },
  {
   "cell_type": "code",
   "execution_count": 35,
   "metadata": {},
   "outputs": [],
   "source": [
    "data, target = process_alldata_training()"
   ]
  },
  {
   "cell_type": "code",
   "execution_count": 36,
   "metadata": {},
   "outputs": [],
   "source": [
    "data_test, target_test = process_alldata_test()"
   ]
  },
  {
   "cell_type": "code",
   "execution_count": 37,
   "metadata": {},
   "outputs": [],
   "source": [
    "chunk_size = 4096\n",
    "n_chunks = 20\n",
    "rnn_size = 512\n",
    "\n",
    "model = Sequential()\n",
    "model.add(LSTM(rnn_size, input_shape=(n_chunks, chunk_size)))\n",
    "model.add(Dense(1024))\n",
    "model.add(Activation('relu'))\n",
    "model.add(Dense(50))\n",
    "model.add(Activation('sigmoid'))\n",
    "model.add(Dense(2))\n",
    "model.add(Activation('softmax'))\n",
    "model.compile(loss='mean_squared_error', optimizer='adam',metrics=['accuracy'])"
   ]
  },
  {
   "cell_type": "code",
   "execution_count": 38,
   "metadata": {},
   "outputs": [
    {
     "name": "stdout",
     "output_type": "stream",
     "text": [
      "WARNING:tensorflow:From C:\\ProgramData\\Anaconda3\\lib\\site-packages\\tensorflow\\python\\ops\\math_ops.py:3066: to_int32 (from tensorflow.python.ops.math_ops) is deprecated and will be removed in a future version.\n",
      "Instructions for updating:\n",
      "Use tf.cast instead.\n"
     ]
    },
    {
     "name": "stderr",
     "output_type": "stream",
     "text": [
      "WARNING:tensorflow:From C:\\ProgramData\\Anaconda3\\lib\\site-packages\\tensorflow\\python\\ops\\math_ops.py:3066: to_int32 (from tensorflow.python.ops.math_ops) is deprecated and will be removed in a future version.\n",
      "Instructions for updating:\n",
      "Use tf.cast instead.\n"
     ]
    },
    {
     "name": "stdout",
     "output_type": "stream",
     "text": [
      "Train on 750 samples, validate on 50 samples\n",
      "Epoch 1/20\n",
      " - 6s - loss: 0.3169 - accuracy: 0.4907 - val_loss: 0.3307 - val_accuracy: 0.4800\n",
      "Epoch 2/20\n",
      " - 5s - loss: 0.2928 - accuracy: 0.5147 - val_loss: 0.2706 - val_accuracy: 0.5200\n",
      "Epoch 3/20\n",
      " - 5s - loss: 0.2734 - accuracy: 0.4907 - val_loss: 0.2503 - val_accuracy: 0.4800\n",
      "Epoch 4/20\n",
      " - 5s - loss: 0.2532 - accuracy: 0.5093 - val_loss: 0.2587 - val_accuracy: 0.4800\n",
      "Epoch 5/20\n",
      " - 5s - loss: 0.2508 - accuracy: 0.5093 - val_loss: 0.2447 - val_accuracy: 0.5200\n",
      "Epoch 6/20\n",
      " - 5s - loss: 0.2470 - accuracy: 0.4907 - val_loss: 0.2441 - val_accuracy: 0.5200\n",
      "Epoch 7/20\n",
      " - 5s - loss: 0.2459 - accuracy: 0.4907 - val_loss: 0.2387 - val_accuracy: 0.8400\n",
      "Epoch 8/20\n",
      " - 5s - loss: 0.2376 - accuracy: 0.7360 - val_loss: 0.2391 - val_accuracy: 0.4800\n",
      "Epoch 9/20\n",
      " - 5s - loss: 0.2341 - accuracy: 0.5173 - val_loss: 0.2238 - val_accuracy: 0.8400\n",
      "Epoch 10/20\n",
      " - 5s - loss: 0.2227 - accuracy: 0.8693 - val_loss: 0.2066 - val_accuracy: 0.8800\n",
      "Epoch 11/20\n",
      " - 5s - loss: 0.2038 - accuracy: 0.8827 - val_loss: 0.1852 - val_accuracy: 0.8600\n",
      "Epoch 12/20\n",
      " - 5s - loss: 0.1798 - accuracy: 0.8920 - val_loss: 0.1547 - val_accuracy: 0.8800\n",
      "Epoch 13/20\n",
      " - 5s - loss: 0.1523 - accuracy: 0.8947 - val_loss: 0.1265 - val_accuracy: 0.8800\n",
      "Epoch 14/20\n",
      " - 5s - loss: 0.1232 - accuracy: 0.8987 - val_loss: 0.0995 - val_accuracy: 0.9200\n",
      "Epoch 15/20\n",
      " - 5s - loss: 0.0987 - accuracy: 0.9013 - val_loss: 0.0841 - val_accuracy: 0.9200\n",
      "Epoch 16/20\n",
      " - 5s - loss: 0.0854 - accuracy: 0.9013 - val_loss: 0.0820 - val_accuracy: 0.9000\n",
      "Epoch 17/20\n",
      " - 5s - loss: 0.0811 - accuracy: 0.9000 - val_loss: 0.0715 - val_accuracy: 0.9200\n",
      "Epoch 18/20\n",
      " - 5s - loss: 0.0765 - accuracy: 0.9067 - val_loss: 0.0705 - val_accuracy: 0.9000\n",
      "Epoch 19/20\n",
      " - 5s - loss: 0.0730 - accuracy: 0.9093 - val_loss: 0.0691 - val_accuracy: 0.9000\n",
      "Epoch 20/20\n",
      " - 5s - loss: 0.0752 - accuracy: 0.9080 - val_loss: 0.0857 - val_accuracy: 0.9000\n",
      "200/200 [==============================] - 2s 9ms/step\n"
     ]
    }
   ],
   "source": [
    "epoch = 20\n",
    "batchS = 500\n",
    "\n",
    "history = model.fit(np.array(data[0:750]), np.array(target[0:750]), epochs=epoch,\n",
    "                    validation_data=(np.array(data[750:]), np.array(target[750:])), \n",
    "                    batch_size=batchS, verbose=2)\n",
    "result = model.evaluate(np.array(data_test), np.array(target_test))"
   ]
  },
  {
   "cell_type": "code",
   "execution_count": 39,
   "metadata": {},
   "outputs": [
    {
     "name": "stdout",
     "output_type": "stream",
     "text": [
      "loss 0.10631074637174606\n",
      "accuracy 0.8650000095367432\n"
     ]
    }
   ],
   "source": [
    "for name, value in zip(model.metrics_names, result):\n",
    "    print(name, value)"
   ]
  },
  {
   "cell_type": "code",
   "execution_count": 40,
   "metadata": {},
   "outputs": [
    {
     "name": "stderr",
     "output_type": "stream",
     "text": [
      "WARNING:matplotlib.backends.backend_ps:The PostScript backend does not support transparency; partially transparent artists will be rendered opaque.\n",
      "WARNING:matplotlib.backends.backend_ps:The PostScript backend does not support transparency; partially transparent artists will be rendered opaque.\n"
     ]
    },
    {
     "data": {
      "image/png": "[encoded data removed]",
      "text/plain": [
       "<Figure size 432x288 with 1 Axes>"
      ]
     },
     "metadata": {
      "needs_background": "light"
     },
     "output_type": "display_data"
    },
    {
     "name": "stderr",
     "output_type": "stream",
     "text": [
      "WARNING:matplotlib.backends.backend_ps:The PostScript backend does not support transparency; partially transparent artists will be rendered opaque.\n",
      "WARNING:matplotlib.backends.backend_ps:The PostScript backend does not support transparency; partially transparent artists will be rendered opaque.\n"
     ]
    },
    {
     "data": {
      "image/png": "[encoded data removed]",
      "text/plain": [
       "<Figure size 432x288 with 1 Axes>"
      ]
     },
     "metadata": {
      "needs_background": "light"
     },
     "output_type": "display_data"
    }
   ],
   "source": [
    "plt.plot(history.history['accuracy'])\n",
    "plt.plot(history.history['val_accuracy'])\n",
    "plt.title('model accuracy')\n",
    "plt.ylabel('accuracy')\n",
    "plt.xlabel('epoch')\n",
    "plt.legend(['train', 'validation'], loc='upper left')\n",
    "plt.savefig('destination_path.eps', format='eps', dpi=1000)\n",
    "plt.show()\n",
    "\n",
    "plt.plot(history.history['loss'])\n",
    "plt.plot(history.history['val_loss'])\n",
    "plt.title('model loss')\n",
    "plt.ylabel('loss')\n",
    "plt.xlabel('epoch')\n",
    "plt.legend(['train', 'validation'], loc='upper left')\n",
    "plt.savefig('destination_path1.eps', format='eps', dpi=1000)\n",
    "plt.show()"
   ]
  },
  {
   "cell_type": "code",
   "execution_count": 30,
   "metadata": {},
   "outputs": [
    {
     "ename": "NameError",
     "evalue": "name 'model' is not defined",
     "output_type": "error",
     "traceback": [
      "\u001b[1;31m---------------------------------------------------------------------------\u001b[0m",
      "\u001b[1;31mNameError\u001b[0m                                 Traceback (most recent call last)",
      "\u001b[1;32m<ipython-input-30-9709e8c19e2f>\u001b[0m in \u001b[0;36m<module>\u001b[1;34m\u001b[0m\n\u001b[0;32m      3\u001b[0m     \u001b[0mvideo\u001b[0m \u001b[1;33m=\u001b[0m \u001b[0mvideo\u001b[0m\u001b[1;33m.\u001b[0m\u001b[0mreshape\u001b[0m\u001b[1;33m(\u001b[0m\u001b[1;33m(\u001b[0m\u001b[1;36m1\u001b[0m\u001b[1;33m,\u001b[0m \u001b[0mvideo\u001b[0m\u001b[1;33m.\u001b[0m\u001b[0mshape\u001b[0m\u001b[1;33m[\u001b[0m\u001b[1;36m0\u001b[0m\u001b[1;33m]\u001b[0m\u001b[1;33m,\u001b[0m \u001b[0mvideo\u001b[0m\u001b[1;33m.\u001b[0m\u001b[0mshape\u001b[0m\u001b[1;33m[\u001b[0m\u001b[1;36m1\u001b[0m\u001b[1;33m]\u001b[0m\u001b[1;33m)\u001b[0m\u001b[1;33m)\u001b[0m\u001b[1;33m\u001b[0m\u001b[1;33m\u001b[0m\u001b[0m\n\u001b[0;32m      4\u001b[0m \u001b[1;31m#label = np.argmax(model.predict(video))\u001b[0m\u001b[1;33m\u001b[0m\u001b[1;33m\u001b[0m\u001b[1;33m\u001b[0m\u001b[0m\n\u001b[1;32m----> 5\u001b[1;33m     \u001b[0ml\u001b[0m \u001b[1;33m=\u001b[0m \u001b[0mmodel\u001b[0m\u001b[1;33m.\u001b[0m\u001b[0mpredict\u001b[0m\u001b[1;33m(\u001b[0m\u001b[0mvideo\u001b[0m\u001b[1;33m)\u001b[0m\u001b[1;33m\u001b[0m\u001b[1;33m\u001b[0m\u001b[0m\n\u001b[0m\u001b[0;32m      6\u001b[0m     \u001b[1;32mif\u001b[0m \u001b[0mfloat\u001b[0m\u001b[1;33m(\u001b[0m\u001b[0ml\u001b[0m\u001b[1;33m[\u001b[0m\u001b[1;36m0\u001b[0m\u001b[1;33m]\u001b[0m\u001b[1;33m[\u001b[0m\u001b[1;36m0\u001b[0m\u001b[1;33m]\u001b[0m\u001b[1;33m)\u001b[0m\u001b[1;33m>\u001b[0m\u001b[0mfloat\u001b[0m\u001b[1;33m(\u001b[0m\u001b[0ml\u001b[0m\u001b[1;33m[\u001b[0m\u001b[1;36m0\u001b[0m\u001b[1;33m]\u001b[0m\u001b[1;33m[\u001b[0m\u001b[1;36m1\u001b[0m\u001b[1;33m]\u001b[0m\u001b[1;33m)\u001b[0m\u001b[1;33m:\u001b[0m\u001b[1;33m\u001b[0m\u001b[1;33m\u001b[0m\u001b[0m\n\u001b[0;32m      7\u001b[0m         \u001b[0mprint\u001b[0m\u001b[1;33m(\u001b[0m\u001b[1;34m\"The video named fi{}_xvid.avi is voilent\"\u001b[0m\u001b[1;33m.\u001b[0m\u001b[0mformat\u001b[0m\u001b[1;33m(\u001b[0m\u001b[0mi\u001b[0m\u001b[1;33m)\u001b[0m\u001b[1;33m)\u001b[0m\u001b[1;33m\u001b[0m\u001b[1;33m\u001b[0m\u001b[0m\n",
      "\u001b[1;31mNameError\u001b[0m: name 'model' is not defined"
     ]
    }
   ],
   "source": [
    "for i in range(1,10):\n",
    "    video = get_transfer_values('data1', 'fi{}_xvid.avi'.format(i))\n",
    "    video = video.reshape((1, video.shape[0], video.shape[1]))\n",
    "#label = np.argmax(model.predict(video))\n",
    "    l = model.predict(video)\n",
    "    if float(l[0][0])>float(l[0][1]):\n",
    "        print(\"The video named fi{}_xvid.avi is voilent\".format(i))\n",
    "    else:\n",
    "        print(\"The video named fi{}_xvid.avi is non-voilent\".format(i))"
   ]
  },
  {
   "cell_type": "code",
   "execution_count": null,
   "metadata": {},
   "outputs": [],
   "source": []
  }
 ],
 "metadata": {
  "kernelspec": {
   "display_name": "Python 3",
   "language": "python",
   "name": "python3"
  },
  "language_info": {
   "codemirror_mode": {
    "name": "ipython",
    "version": 3
   },
   "file_extension": ".py",
   "mimetype": "text/x-python",
   "name": "python",
   "nbconvert_exporter": "python",
   "pygments_lexer": "ipython3",
   "version": "3.7.6"
  }
 },
 "nbformat": 4,
 "nbformat_minor": 4
}
